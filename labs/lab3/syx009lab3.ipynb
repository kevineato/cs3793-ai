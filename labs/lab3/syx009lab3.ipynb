{
 "cells": [
  {
   "cell_type": "code",
   "execution_count": 1,
   "metadata": {},
   "outputs": [
    {
     "name": "stderr",
     "output_type": "stream",
     "text": [
      "/home/kevineato/anaconda3/lib/python3.6/site-packages/h5py/__init__.py:36: FutureWarning: Conversion of the second argument of issubdtype from `float` to `np.floating` is deprecated. In future, it will be treated as `np.float64 == np.dtype(float).type`.\n",
      "  from ._conv import register_converters as _register_converters\n"
     ]
    }
   ],
   "source": [
    "\"\"\"\n",
    "syx009lab3\n",
    "\n",
    "@author: Kevin Wilson syx009\n",
    "\"\"\"\n",
    "import pandas as pd\n",
    "import tensorflow as tf\n",
    "\n",
    "from sklearn.model_selection import train_test_split\n",
    "\n",
    "COL_NAMES = ['UserCountry', 'NrReviews', 'NrHotelReviews', 'HelpfulVotes', 'Score', 'PeriodOfStay', 'TravelerType',\n",
    "            'Pool', 'Gym', 'TennisCourt', 'Spa', 'Casino', 'FreeInternet', 'HotelName', 'HotelStars', 'NrRooms', \n",
    "             'UserContinent', 'MemberYears', 'ReviewMonth', 'ReviewWeekday']\n",
    "\n",
    "# loads data from csv returning relevant features, labels, unique labels indexed by id\n",
    "def load_data(selected_features, label_name):\n",
    "    df = pd.read_csv('vegas.csv', names=COL_NAMES, header=0)\n",
    "    features, labels = df, df.pop(label_name)\n",
    "    \n",
    "    # uniques are unique labels indexed by integer used to map to label name\n",
    "    _, uniques = pd.factorize(labels)\n",
    "    \n",
    "    # use selected_features to filter out unnecessary features\n",
    "    return features[selected_features], labels, uniques\n",
    "\n",
    "# split training and test data in 70/30 split\n",
    "def split_data(features, labels):\n",
    "    train_x, test_x, train_y, test_y = train_test_split(features, labels, train_size=0.7, random_state=42)\n",
    "    return train_x, test_x, train_y, test_y\n",
    "\n",
    "# returns feature columns to identify column types, used by the estimator\n",
    "def get_cols(features_unique):\n",
    "    cols = []\n",
    "    for key in features_unique:\n",
    "        if features_unique[key].dtype == object:\n",
    "            # make str columns categorical_column using unique names as vocabulary_list\n",
    "            cat_col = tf.feature_column.categorical_column_with_vocabulary_list(key, features_unique[key])\n",
    "            # make indicator_column from categorical_column, required for DNN estimators\n",
    "            cat_col = tf.feature_column.indicator_column(cat_col)\n",
    "            cols.append(cat_col)\n",
    "        else:\n",
    "            # for columns containing only numbers\n",
    "            cols.append(tf.feature_column.numeric_column(key))\n",
    "            \n",
    "    return cols"
   ]
  },
  {
   "cell_type": "code",
   "execution_count": 2,
   "metadata": {},
   "outputs": [],
   "source": [
    "def predict_hotel(data, selected_features, num_epoch, question_num):\n",
    "    # load data, including unique mapped label names, label is HotelName\n",
    "    features, labels, uniques = load_data(selected_features, 'HotelName')\n",
    "\n",
    "    # dict with column names as keys mapped to unique values in that column\n",
    "    features_unique = {}\n",
    "    for col in features:\n",
    "        features_unique[col] = features[col].unique()\n",
    "\n",
    "    # get feature_columns for DNNClassifier\n",
    "    cols = get_cols(features_unique)\n",
    "\n",
    "    # split the data into test and training\n",
    "    train_x, test_x, train_y, test_y = split_data(features, labels)\n",
    "    \n",
    "    # init DNNClassifier, lower the amount of logging in output during training\n",
    "    run_config = tf.estimator.RunConfig().replace(log_step_count_steps=1000)\n",
    "    # hidden_units is 1 hidden layer with 13 nodes (average between number classes and input nodes number)\n",
    "    clf = tf.estimator.DNNClassifier(hidden_units=[13], config=run_config, feature_columns=cols, n_classes=21, \n",
    "                                     label_vocabulary=uniques.tolist())\n",
    "\n",
    "    # pandas_input_fn returns a function that must be called\n",
    "    # pass to input_fn a lambda that calls the input_fn returned by pandas_input_fn\n",
    "    # set num_epochs to passed value and batch_size to entire training set since not a lot of data\n",
    "    clf.train(input_fn=lambda: tf.estimator.inputs.pandas_input_fn(train_x, train_y, num_epochs=num_epoch, \n",
    "                                                                   batch_size=train_x.shape[0], shuffle=True, \n",
    "                                                                   target_column='HotelName')())\n",
    "    \n",
    "    # evaluate accuracy using test set and give quick summary\n",
    "    results = clf.evaluate(input_fn=lambda: tf.estimator.inputs.pandas_input_fn(test_x, test_y, \n",
    "                                                                                batch_size=test_x.shape[0], \n",
    "                                                                                shuffle=False, \n",
    "                                                                                target_column='HotelName')())\n",
    "    for key in sorted(results):\n",
    "        print('{}: {}'.format(key, results[key]))\n",
    "        \n",
    "    # predict hotel name based on passed in data describing the individual\n",
    "    results_pred = clf.predict(input_fn=lambda: tf.estimator.inputs.pandas_input_fn(data, shuffle=False)())\n",
    "    # present prediction of best hotel for the individual\n",
    "    for pred in results_pred:\n",
    "        template = '\\nPrediction best hotel for question {}: \"{}\" ({:.1f}%)'\n",
    "\n",
    "        class_id = pred['class_ids'][0]\n",
    "        probability = pred['probabilities'][class_id]\n",
    "\n",
    "        print(template.format(question_num, uniques[class_id], 100 * probability))"
   ]
  },
  {
   "cell_type": "code",
   "execution_count": 3,
   "metadata": {},
   "outputs": [],
   "source": [
    "num_epoch = 2000\n",
    "    \n",
    "# question 1 data: want high score, going in May, group of friends, want high stars\n",
    "q1_df = pd.DataFrame({'Score': [5], 'PeriodOfStay': ['Mar-May'], 'TravelerType': ['Friends'], 'HotelStars': [5.0], \n",
    "                     'ReviewMonth': ['May']})\n",
    "# question 2 data: want high score, going in July, newlywed couple, want high stars, want a spa\n",
    "q2_df = pd.DataFrame({'Score': [5], 'PeriodOfStay': ['Jun-Aug'], 'TravelerType': ['Couples'], 'HotelStars': [5.0], \n",
    "                      'ReviewMonth': ['July'], 'Spa': ['YES']})"
   ]
  },
  {
   "cell_type": "code",
   "execution_count": 4,
   "metadata": {},
   "outputs": [
    {
     "name": "stdout",
     "output_type": "stream",
     "text": [
      "WARNING:tensorflow:Using temporary folder as model directory: /tmp/tmpejev1rnp\n",
      "INFO:tensorflow:Using config: {'_model_dir': '/tmp/tmpejev1rnp', '_tf_random_seed': None, '_save_summary_steps': 100, '_save_checkpoints_steps': None, '_save_checkpoints_secs': 600, '_session_config': None, '_keep_checkpoint_max': 5, '_keep_checkpoint_every_n_hours': 10000, '_log_step_count_steps': 1000, '_service': None, '_cluster_spec': <tensorflow.python.training.server_lib.ClusterSpec object at 0x7fc8ded60208>, '_task_type': 'worker', '_task_id': 0, '_master': '', '_is_chief': True, '_num_ps_replicas': 0, '_num_worker_replicas': 1}\n"
     ]
    },
    {
     "name": "stderr",
     "output_type": "stream",
     "text": [
      "/home/kevineato/anaconda3/lib/python3.6/site-packages/sklearn/model_selection/_split.py:2026: FutureWarning: From version 0.21, test_size will always complement train_size unless both are specified.\n",
      "  FutureWarning)\n"
     ]
    },
    {
     "name": "stdout",
     "output_type": "stream",
     "text": [
      "INFO:tensorflow:Create CheckpointSaverHook.\n",
      "INFO:tensorflow:Saving checkpoints for 1 into /tmp/tmpejev1rnp/model.ckpt.\n",
      "INFO:tensorflow:loss = 1221.9989, step = 1\n",
      "INFO:tensorflow:loss = 833.17725, step = 101 (0.446 sec)\n",
      "INFO:tensorflow:loss = 737.0071, step = 201 (0.429 sec)\n",
      "INFO:tensorflow:loss = 682.5219, step = 301 (0.317 sec)\n",
      "INFO:tensorflow:loss = 646.44763, step = 401 (0.446 sec)\n",
      "INFO:tensorflow:loss = 614.9945, step = 501 (0.402 sec)\n",
      "INFO:tensorflow:loss = 577.6859, step = 601 (0.437 sec)\n",
      "INFO:tensorflow:loss = 597.8354, step = 701 (0.433 sec)\n",
      "INFO:tensorflow:loss = 575.8179, step = 801 (0.453 sec)\n",
      "INFO:tensorflow:loss = 552.7625, step = 901 (0.418 sec)\n",
      "INFO:tensorflow:global_step/sec: 240.309\n",
      "INFO:tensorflow:loss = 553.1336, step = 1001 (0.383 sec)\n",
      "INFO:tensorflow:loss = 527.8427, step = 1101 (0.459 sec)\n",
      "INFO:tensorflow:loss = 535.23914, step = 1201 (0.368 sec)\n",
      "INFO:tensorflow:loss = 526.8779, step = 1301 (0.400 sec)\n",
      "INFO:tensorflow:loss = 520.79596, step = 1401 (0.348 sec)\n",
      "INFO:tensorflow:loss = 507.69516, step = 1501 (0.435 sec)\n",
      "INFO:tensorflow:loss = 515.9354, step = 1601 (0.362 sec)\n",
      "INFO:tensorflow:loss = 499.94482, step = 1701 (0.318 sec)\n",
      "INFO:tensorflow:loss = 506.99185, step = 1801 (0.370 sec)\n",
      "INFO:tensorflow:loss = 502.11606, step = 1901 (0.376 sec)\n",
      "INFO:tensorflow:Saving checkpoints for 2000 into /tmp/tmpejev1rnp/model.ckpt.\n",
      "INFO:tensorflow:Loss for final step: 504.38586.\n",
      "INFO:tensorflow:Starting evaluation at 2018-03-10-04:47:26\n",
      "INFO:tensorflow:Restoring parameters from /tmp/tmpejev1rnp/model.ckpt-2000\n",
      "INFO:tensorflow:Finished evaluation at 2018-03-10-04:47:26\n",
      "INFO:tensorflow:Saving dict for global step 2000: accuracy = 0.10526316, average_loss = 3.0371523, global_step = 2000, loss = 461.64716\n",
      "accuracy: 0.10526315867900848\n",
      "average_loss: 3.0371522903442383\n",
      "global_step: 2000\n",
      "loss: 461.64715576171875\n",
      "INFO:tensorflow:Restoring parameters from /tmp/tmpejev1rnp/model.ckpt-2000\n",
      "\n",
      "Prediction best hotel for question 1: \"Encore at wynn Las Vegas\" (71.7%)\n"
     ]
    }
   ],
   "source": [
    "# relevant features for question 1\n",
    "selected_features = ['Score', 'PeriodOfStay', 'TravelerType', 'HotelStars', 'ReviewMonth']\n",
    "predict_hotel(q1_df, selected_features, num_epoch, 1)"
   ]
  },
  {
   "cell_type": "markdown",
   "metadata": {},
   "source": [
    "# Question 1\n",
    "\n",
    "Prediction for best hotel for friends going in May:  \n",
    "**Encore at wynn Las Vegas** with 71.7% probability"
   ]
  },
  {
   "cell_type": "code",
   "execution_count": 5,
   "metadata": {},
   "outputs": [
    {
     "name": "stdout",
     "output_type": "stream",
     "text": [
      "WARNING:tensorflow:Using temporary folder as model directory: /tmp/tmp8yqqbjx0\n",
      "INFO:tensorflow:Using config: {'_model_dir': '/tmp/tmp8yqqbjx0', '_tf_random_seed': None, '_save_summary_steps': 100, '_save_checkpoints_steps': None, '_save_checkpoints_secs': 600, '_session_config': None, '_keep_checkpoint_max': 5, '_keep_checkpoint_every_n_hours': 10000, '_log_step_count_steps': 1000, '_service': None, '_cluster_spec': <tensorflow.python.training.server_lib.ClusterSpec object at 0x7fc86f6840f0>, '_task_type': 'worker', '_task_id': 0, '_master': '', '_is_chief': True, '_num_ps_replicas': 0, '_num_worker_replicas': 1}\n"
     ]
    },
    {
     "name": "stderr",
     "output_type": "stream",
     "text": [
      "/home/kevineato/anaconda3/lib/python3.6/site-packages/sklearn/model_selection/_split.py:2026: FutureWarning: From version 0.21, test_size will always complement train_size unless both are specified.\n",
      "  FutureWarning)\n"
     ]
    },
    {
     "name": "stdout",
     "output_type": "stream",
     "text": [
      "INFO:tensorflow:Create CheckpointSaverHook.\n",
      "INFO:tensorflow:Saving checkpoints for 1 into /tmp/tmp8yqqbjx0/model.ckpt.\n",
      "INFO:tensorflow:loss = 1134.1091, step = 1\n",
      "INFO:tensorflow:loss = 701.4768, step = 101 (0.403 sec)\n",
      "INFO:tensorflow:loss = 599.07874, step = 201 (0.375 sec)\n",
      "INFO:tensorflow:loss = 533.04, step = 301 (0.423 sec)\n",
      "INFO:tensorflow:loss = 490.05188, step = 401 (0.375 sec)\n",
      "INFO:tensorflow:loss = 480.411, step = 501 (0.342 sec)\n",
      "INFO:tensorflow:loss = 477.0861, step = 601 (0.342 sec)\n",
      "INFO:tensorflow:loss = 443.87, step = 701 (0.369 sec)\n",
      "INFO:tensorflow:loss = 427.4829, step = 801 (0.687 sec)\n",
      "INFO:tensorflow:loss = 413.75546, step = 901 (0.581 sec)\n",
      "INFO:tensorflow:global_step/sec: 222.51\n",
      "INFO:tensorflow:loss = 422.76794, step = 1001 (0.600 sec)\n",
      "INFO:tensorflow:loss = 434.3399, step = 1101 (0.818 sec)\n",
      "INFO:tensorflow:loss = 406.42737, step = 1201 (0.721 sec)\n",
      "INFO:tensorflow:loss = 406.47394, step = 1301 (0.692 sec)\n",
      "INFO:tensorflow:loss = 403.99985, step = 1401 (0.748 sec)\n",
      "INFO:tensorflow:loss = 410.91528, step = 1501 (0.592 sec)\n",
      "INFO:tensorflow:loss = 404.28815, step = 1601 (0.624 sec)\n",
      "INFO:tensorflow:loss = 402.741, step = 1701 (0.758 sec)\n",
      "INFO:tensorflow:loss = 385.5027, step = 1801 (0.696 sec)\n",
      "INFO:tensorflow:loss = 392.2508, step = 1901 (0.724 sec)\n",
      "INFO:tensorflow:Saving checkpoints for 2000 into /tmp/tmp8yqqbjx0/model.ckpt.\n",
      "INFO:tensorflow:Loss for final step: 394.80255.\n",
      "INFO:tensorflow:Starting evaluation at 2018-03-10-04:47:39\n",
      "INFO:tensorflow:Restoring parameters from /tmp/tmp8yqqbjx0/model.ckpt-2000\n",
      "INFO:tensorflow:Finished evaluation at 2018-03-10-04:47:39\n",
      "INFO:tensorflow:Saving dict for global step 2000: accuracy = 0.21710527, average_loss = 2.3970094, global_step = 2000, loss = 364.34543\n",
      "accuracy: 0.21710526943206787\n",
      "average_loss: 2.3970093727111816\n",
      "global_step: 2000\n",
      "loss: 364.3454284667969\n",
      "INFO:tensorflow:Restoring parameters from /tmp/tmp8yqqbjx0/model.ckpt-2000\n",
      "\n",
      "Prediction best hotel for question 2: \"The Venetian Las Vegas Hotel\" (35.0%)\n"
     ]
    }
   ],
   "source": [
    "# relevant features for question 2 same as question 1 with spa also\n",
    "selected_features.append('Spa')\n",
    "predict_hotel(q2_df, selected_features, num_epoch, 2)"
   ]
  },
  {
   "cell_type": "markdown",
   "metadata": {},
   "source": [
    "# Question 2\n",
    "\n",
    "Prediction for best hotel for newly-wed couple going in July:  \n",
    "**The Venetian Las Vegas Hotel** with 35.0% probability"
   ]
  },
  {
   "cell_type": "code",
   "execution_count": 6,
   "metadata": {},
   "outputs": [],
   "source": [
    "def predict_rating(data, selected_features, num_epoch, question_num):\n",
    "    # load data, including unique mapped label names, label is Score\n",
    "    features, labels, _ = load_data(selected_features, 'Score')\n",
    "\n",
    "    features_unique = {}\n",
    "    for col in features:\n",
    "        features_unique[col] = features[col].unique()\n",
    "\n",
    "    cols = get_cols(features_unique)\n",
    "\n",
    "    train_x, test_x, train_y, test_y = split_data(features, labels)\n",
    "    run_config = tf.estimator.RunConfig().replace(log_step_count_steps=1000)\n",
    "    # hidden_units is 1 hidden layer with 5 nodes since about 5 inputs\n",
    "    clf = tf.estimator.DNNRegressor(hidden_units=[5], config=run_config, feature_columns=cols)\n",
    "\n",
    "    clf.train(input_fn=lambda: tf.estimator.inputs.pandas_input_fn(train_x, train_y, num_epochs=num_epoch, \n",
    "                                                                   batch_size=train_x.shape[0], shuffle=True, \n",
    "                                                                   target_column='Score')())\n",
    "    \n",
    "    results = clf.evaluate(input_fn=lambda: tf.estimator.inputs.pandas_input_fn(test_x, test_y, \n",
    "                                                                                batch_size=train_x.shape[0], \n",
    "                                                                                shuffle=False, \n",
    "                                                                                target_column='Score')())\n",
    "    for key in sorted(results):\n",
    "        print('{}: {}'.format(key, results[key]))\n",
    "        \n",
    "    results_pred = clf.predict(input_fn=lambda: tf.estimator.inputs.pandas_input_fn(data, shuffle=False)())\n",
    "    for pred in results_pred:\n",
    "        template = '\\nPrediction rating for question {}: {:.1f}'\n",
    "\n",
    "        rating = pred['predictions'][0]\n",
    "\n",
    "        print(template.format(question_num, rating))"
   ]
  },
  {
   "cell_type": "code",
   "execution_count": 7,
   "metadata": {},
   "outputs": [],
   "source": [
    "num_epoch = 2000\n",
    "\n",
    "# question 3 data: stayed at Circus Circus, went in October, family, prefer more stars, perfer pool\n",
    "q3_df = pd.DataFrame({'HotelName': ['Circus Circus Hotel & Casino Las Vegas'], 'PeriodOfStay': ['Sep-Nov'], \n",
    "                     'TravelerType': ['Families'], 'HotelStars': [5.0], 'Pool': ['YES'], \n",
    "                      'ReviewMonth': ['October']})\n",
    "# question 4 data: stayed at Bellagio, went in Janurary, business trip, prefer more stars, prefer free wi-fi\n",
    "q4_df = pd.DataFrame({'HotelName': ['Bellagio Las Vegas'], 'PeriodOfStay': ['Dec-Feb'], \n",
    "                     'TravelerType': ['Business'], 'HotelStars': [5.0], 'FreeInternet': ['YES'], \n",
    "                      'ReviewMonth': ['January']})"
   ]
  },
  {
   "cell_type": "code",
   "execution_count": 8,
   "metadata": {},
   "outputs": [
    {
     "name": "stdout",
     "output_type": "stream",
     "text": [
      "WARNING:tensorflow:Using temporary folder as model directory: /tmp/tmpykn0zp4n\n",
      "INFO:tensorflow:Using config: {'_model_dir': '/tmp/tmpykn0zp4n', '_tf_random_seed': None, '_save_summary_steps': 100, '_save_checkpoints_steps': None, '_save_checkpoints_secs': 600, '_session_config': None, '_keep_checkpoint_max': 5, '_keep_checkpoint_every_n_hours': 10000, '_log_step_count_steps': 1000, '_service': None, '_cluster_spec': <tensorflow.python.training.server_lib.ClusterSpec object at 0x7fc8663127f0>, '_task_type': 'worker', '_task_id': 0, '_master': '', '_is_chief': True, '_num_ps_replicas': 0, '_num_worker_replicas': 1}\n"
     ]
    },
    {
     "name": "stderr",
     "output_type": "stream",
     "text": [
      "/home/kevineato/anaconda3/lib/python3.6/site-packages/sklearn/model_selection/_split.py:2026: FutureWarning: From version 0.21, test_size will always complement train_size unless both are specified.\n",
      "  FutureWarning)\n"
     ]
    },
    {
     "name": "stdout",
     "output_type": "stream",
     "text": [
      "INFO:tensorflow:Create CheckpointSaverHook.\n",
      "INFO:tensorflow:Saving checkpoints for 1 into /tmp/tmpykn0zp4n/model.ckpt.\n",
      "INFO:tensorflow:loss = 9894.208, step = 1\n",
      "INFO:tensorflow:loss = 317.17377, step = 101 (0.387 sec)\n",
      "INFO:tensorflow:loss = 295.01312, step = 201 (0.322 sec)\n",
      "INFO:tensorflow:loss = 325.27606, step = 301 (0.334 sec)\n",
      "INFO:tensorflow:loss = 266.43753, step = 401 (0.322 sec)\n",
      "INFO:tensorflow:loss = 251.16615, step = 501 (0.354 sec)\n",
      "INFO:tensorflow:loss = 293.21024, step = 601 (0.358 sec)\n",
      "INFO:tensorflow:loss = 254.65689, step = 701 (0.323 sec)\n",
      "INFO:tensorflow:loss = 264.87518, step = 801 (0.324 sec)\n",
      "INFO:tensorflow:loss = 266.03107, step = 901 (0.347 sec)\n",
      "INFO:tensorflow:global_step/sec: 293.447\n",
      "INFO:tensorflow:loss = 234.0405, step = 1001 (0.340 sec)\n",
      "INFO:tensorflow:loss = 244.3476, step = 1101 (0.391 sec)\n",
      "INFO:tensorflow:loss = 271.47314, step = 1201 (0.351 sec)\n",
      "INFO:tensorflow:loss = 269.97717, step = 1301 (0.415 sec)\n",
      "INFO:tensorflow:loss = 270.3614, step = 1401 (0.358 sec)\n",
      "INFO:tensorflow:loss = 246.88176, step = 1501 (0.354 sec)\n",
      "INFO:tensorflow:loss = 276.07178, step = 1601 (0.333 sec)\n",
      "INFO:tensorflow:loss = 231.13123, step = 1701 (0.324 sec)\n",
      "INFO:tensorflow:loss = 254.45657, step = 1801 (0.321 sec)\n",
      "INFO:tensorflow:loss = 238.05322, step = 1901 (0.326 sec)\n",
      "INFO:tensorflow:Saving checkpoints for 2000 into /tmp/tmpykn0zp4n/model.ckpt.\n",
      "INFO:tensorflow:Loss for final step: 282.45.\n",
      "INFO:tensorflow:Starting evaluation at 2018-03-10-04:47:47\n",
      "INFO:tensorflow:Restoring parameters from /tmp/tmpykn0zp4n/model.ckpt-2000\n",
      "INFO:tensorflow:Finished evaluation at 2018-03-10-04:47:47\n",
      "INFO:tensorflow:Saving dict for global step 2000: average_loss = 1.0890981, global_step = 2000, loss = 165.54291\n",
      "average_loss: 1.0890980958938599\n",
      "global_step: 2000\n",
      "loss: 165.54290771484375\n",
      "INFO:tensorflow:Restoring parameters from /tmp/tmpykn0zp4n/model.ckpt-2000\n",
      "\n",
      "Prediction rating for question 3: 4.0\n"
     ]
    }
   ],
   "source": [
    "selected_features = ['HotelName', 'PeriodOfStay', 'TravelerType', 'HotelStars', 'Pool', 'ReviewMonth']\n",
    "predict_rating(q3_df, selected_features, num_epoch, 3)"
   ]
  },
  {
   "cell_type": "markdown",
   "metadata": {},
   "source": [
    "# Question 3\n",
    "Predicted score for family who stayed at Circus Circus in October:  \n",
    "**4.0**"
   ]
  },
  {
   "cell_type": "code",
   "execution_count": 9,
   "metadata": {},
   "outputs": [
    {
     "name": "stdout",
     "output_type": "stream",
     "text": [
      "WARNING:tensorflow:Using temporary folder as model directory: /tmp/tmp5w1ovctr\n",
      "INFO:tensorflow:Using config: {'_model_dir': '/tmp/tmp5w1ovctr', '_tf_random_seed': None, '_save_summary_steps': 100, '_save_checkpoints_steps': None, '_save_checkpoints_secs': 600, '_session_config': None, '_keep_checkpoint_max': 5, '_keep_checkpoint_every_n_hours': 10000, '_log_step_count_steps': 1000, '_service': None, '_cluster_spec': <tensorflow.python.training.server_lib.ClusterSpec object at 0x7fc86f6bf4e0>, '_task_type': 'worker', '_task_id': 0, '_master': '', '_is_chief': True, '_num_ps_replicas': 0, '_num_worker_replicas': 1}\n"
     ]
    },
    {
     "name": "stderr",
     "output_type": "stream",
     "text": [
      "/home/kevineato/anaconda3/lib/python3.6/site-packages/sklearn/model_selection/_split.py:2026: FutureWarning: From version 0.21, test_size will always complement train_size unless both are specified.\n",
      "  FutureWarning)\n"
     ]
    },
    {
     "name": "stdout",
     "output_type": "stream",
     "text": [
      "INFO:tensorflow:Create CheckpointSaverHook.\n",
      "INFO:tensorflow:Saving checkpoints for 1 into /tmp/tmp5w1ovctr/model.ckpt.\n",
      "INFO:tensorflow:loss = 5516.138, step = 1\n",
      "INFO:tensorflow:loss = 259.78845, step = 101 (0.381 sec)\n",
      "INFO:tensorflow:loss = 302.70966, step = 201 (0.373 sec)\n",
      "INFO:tensorflow:loss = 267.4823, step = 301 (0.331 sec)\n",
      "INFO:tensorflow:loss = 237.71532, step = 401 (0.333 sec)\n",
      "INFO:tensorflow:loss = 305.45844, step = 501 (0.319 sec)\n",
      "INFO:tensorflow:loss = 251.96625, step = 601 (0.323 sec)\n",
      "INFO:tensorflow:loss = 265.0102, step = 701 (0.323 sec)\n",
      "INFO:tensorflow:loss = 250.5008, step = 801 (0.404 sec)\n",
      "INFO:tensorflow:loss = 258.0967, step = 901 (0.328 sec)\n",
      "INFO:tensorflow:global_step/sec: 289.155\n",
      "INFO:tensorflow:loss = 264.20184, step = 1001 (0.343 sec)\n",
      "INFO:tensorflow:loss = 264.10226, step = 1101 (0.331 sec)\n",
      "INFO:tensorflow:loss = 234.43224, step = 1201 (0.329 sec)\n",
      "INFO:tensorflow:loss = 242.41803, step = 1301 (0.370 sec)\n",
      "INFO:tensorflow:loss = 275.8522, step = 1401 (0.334 sec)\n",
      "INFO:tensorflow:loss = 247.81042, step = 1501 (0.331 sec)\n",
      "INFO:tensorflow:loss = 240.79504, step = 1601 (0.318 sec)\n",
      "INFO:tensorflow:loss = 252.82248, step = 1701 (0.324 sec)\n",
      "INFO:tensorflow:loss = 264.6344, step = 1801 (0.394 sec)\n",
      "INFO:tensorflow:loss = 238.95105, step = 1901 (0.330 sec)\n",
      "INFO:tensorflow:Saving checkpoints for 2000 into /tmp/tmp5w1ovctr/model.ckpt.\n",
      "INFO:tensorflow:Loss for final step: 260.24414.\n",
      "INFO:tensorflow:Starting evaluation at 2018-03-10-04:47:56\n",
      "INFO:tensorflow:Restoring parameters from /tmp/tmp5w1ovctr/model.ckpt-2000\n",
      "INFO:tensorflow:Finished evaluation at 2018-03-10-04:47:56\n",
      "INFO:tensorflow:Saving dict for global step 2000: average_loss = 1.1066349, global_step = 2000, loss = 168.2085\n",
      "average_loss: 1.1066348552703857\n",
      "global_step: 2000\n",
      "loss: 168.20849609375\n",
      "INFO:tensorflow:Restoring parameters from /tmp/tmp5w1ovctr/model.ckpt-2000\n",
      "\n",
      "Prediction rating for question 4: 4.7\n"
     ]
    }
   ],
   "source": [
    "selected_features = ['HotelName', 'PeriodOfStay', 'TravelerType', 'HotelStars', 'FreeInternet', 'ReviewMonth']\n",
    "predict_rating(q4_df, selected_features, num_epoch, 4)"
   ]
  },
  {
   "cell_type": "markdown",
   "metadata": {},
   "source": [
    "# Question 4\n",
    "\n",
    "Predicted score given by person on business trip who stayed at Bellagio in January:  \n",
    "**4.7**"
   ]
  }
 ],
 "metadata": {
  "kernelspec": {
   "display_name": "Python 3",
   "language": "python",
   "name": "python3"
  },
  "language_info": {
   "codemirror_mode": {
    "name": "ipython",
    "version": 3
   },
   "file_extension": ".py",
   "mimetype": "text/x-python",
   "name": "python",
   "nbconvert_exporter": "python",
   "pygments_lexer": "ipython3",
   "version": "3.6.4"
  }
 },
 "nbformat": 4,
 "nbformat_minor": 2
}
